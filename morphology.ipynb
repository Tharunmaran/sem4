{
 "cells": [
  {
   "cell_type": "code",
   "execution_count": 1,
   "id": "58da23fe",
   "metadata": {},
   "outputs": [],
   "source": [
    "import cv2\n",
    "import numpy as np\n",
    "from matplotlib import pyplot as plt"
   ]
  },
  {
   "cell_type": "markdown",
   "id": "77cf8f11",
   "metadata": {},
   "source": [
    "# morphology transformation and image segmentation"
   ]
  },
  {
   "cell_type": "markdown",
   "id": "76670cb4",
   "metadata": {},
   "source": [
    "# DILATION"
   ]
  },
  {
   "cell_type": "code",
   "execution_count": 2,
   "id": "006d7b98",
   "metadata": {},
   "outputs": [],
   "source": [
    "img= cv2.imread('C:/Users/SN126/morpho/t2.jpg',0)\n",
    "img=cv2.cvtColor(img,cv2.COLOR_BGR2RGB)\n",
    "_,mask= cv2.threshold(img,220,255,cv2.THRESH_BINARY)\n"
   ]
  },
  {
   "cell_type": "code",
   "execution_count": 12,
   "id": "8457ecf5",
   "metadata": {},
   "outputs": [
    {
     "data": {
      "image/png": "[encoded data removed]",
      "text/plain": [
       "<Figure size 640x480 with 4 Axes>"
      ]
     },
     "metadata": {},
     "output_type": "display_data"
    }
   ],
   "source": [
    "kernal =np.ones((3,3),np.uint8)\n",
    "dilation=cv2.dilate(mask,kernal,iterations=1)\n",
    "aeration=cv2.erode(mask,kernal,iterations=1)\n",
    "titles =['image','mask,','dilate','aerate']\n",
    "images = [img,mask,dilation,aeration]\n",
    "for i in range(len(images)):\n",
    "    plt.subplot(2,4,i+1,),plt.imshow(images[i])\n",
    "    plt.title(titles[i])\n",
    "    plt.xticks([]),plt.yticks([])\n",
    "plt.show()"
   ]
  },
  {
   "cell_type": "code",
   "execution_count": null,
   "id": "e623ec3d",
   "metadata": {},
   "outputs": [],
   "source": []
  },
  {
   "cell_type": "markdown",
   "id": "32317eab",
   "metadata": {},
   "source": [
    "#  morphological opening -erosion followed by dilation"
   ]
  },
  {
   "cell_type": "code",
   "execution_count": null,
   "id": "f53dc8eb",
   "metadata": {},
   "outputs": [],
   "source": [
    "open =cv2.morphologyEx(img,cv2.MORPH_OPEN,kernal)"
   ]
  },
  {
   "cell_type": "code",
   "execution_count": null,
   "id": "f006061b",
   "metadata": {},
   "outputs": [],
   "source": [
    "cv2.imshow(\"image\",img)\n",
    "cv2.imshow('open',open)\n",
    "cv2.waitKey(0)\n",
    "cv2.destroyAllWindows()"
   ]
  },
  {
   "cell_type": "markdown",
   "id": "aae8dc3f",
   "metadata": {},
   "source": [
    "# morphological closing - dilation followed by and erosion"
   ]
  },
  {
   "cell_type": "code",
   "execution_count": null,
   "id": "0d597b14",
   "metadata": {},
   "outputs": [],
   "source": [
    "close =cv2.morphologyEx(img,cv2.MORPH_CLOSE,kernal)"
   ]
  },
  {
   "cell_type": "code",
   "execution_count": null,
   "id": "c08d3896",
   "metadata": {},
   "outputs": [],
   "source": [
    "cv2.imshow(\"image\",img)\n",
    "cv2.imshow('close',close)\n",
    "cv2.waitKey(0)\n",
    "cv2.destroyAllWindows()"
   ]
  },
  {
   "cell_type": "markdown",
   "id": "72a4737e",
   "metadata": {},
   "source": [
    "# morphological gradient-erosion ,dilation and difference of both"
   ]
  },
  {
   "cell_type": "code",
   "execution_count": 4,
   "id": "99471a11",
   "metadata": {},
   "outputs": [],
   "source": [
    "gradient =cv2.morphologyEx(img,cv2.MORPH_GRADIENT,kernal)"
   ]
  },
  {
   "cell_type": "code",
   "execution_count": 5,
   "id": "9faeb59d",
   "metadata": {},
   "outputs": [],
   "source": [
    "cv2.imshow(\"image\",img)\n",
    "cv2.imshow('morph gradient',gradient)\n",
    "cv2.waitKey(0)\n",
    "cv2.destroyAllWindows()"
   ]
  },
  {
   "cell_type": "markdown",
   "id": "98e4f859",
   "metadata": {},
   "source": [
    "# Top Hat -opening and difference of original and opening"
   ]
  },
  {
   "cell_type": "code",
   "execution_count": 7,
   "id": "118dd7ca",
   "metadata": {},
   "outputs": [],
   "source": [
    "tophat =cv2.morphologyEx(img,cv2.MORPH_TOPHAT,kernal)"
   ]
  },
  {
   "cell_type": "code",
   "execution_count": 8,
   "id": "50f784f8",
   "metadata": {},
   "outputs": [],
   "source": [
    "cv2.imshow(\"image\",img)\n",
    "cv2.imshow('tophat',tophat)\n",
    "cv2.waitKey(0)\n",
    "cv2.destroyAllWindows()"
   ]
  },
  {
   "cell_type": "markdown",
   "id": "824090d3",
   "metadata": {},
   "source": [
    "# black hat -opposite of tophat"
   ]
  },
  {
   "cell_type": "code",
   "execution_count": 9,
   "id": "a6cc7061",
   "metadata": {},
   "outputs": [],
   "source": [
    "blackhat =cv2.morphologyEx(img,cv2.MORPH_BLACKHAT,kernal)"
   ]
  },
  {
   "cell_type": "code",
   "execution_count": 11,
   "id": "31974d3b",
   "metadata": {},
   "outputs": [],
   "source": [
    "cv2.imshow(\"image\",img)\n",
    "cv2.imshow('black hat',blackhat)\n",
    "cv2.waitKey(0)\n",
    "cv2.destroyAllWindows()"
   ]
  },
  {
   "cell_type": "code",
   "execution_count": null,
   "id": "7474fd54",
   "metadata": {},
   "outputs": [],
   "source": []
  },
  {
   "cell_type": "code",
   "execution_count": null,
   "id": "0506314c",
   "metadata": {},
   "outputs": [],
   "source": []
  },
  {
   "cell_type": "markdown",
   "id": "1057bf82",
   "metadata": {},
   "source": [
    "## 1)dilation-smudging the edges\n",
    "## 2)aeration-sharpening the edges\n",
    "## 3)morphological opening -erosion followed by dilation\n",
    "## 4)morphological closing - dilation followed by and erosion\n",
    "## 5)Top Hat -opening and difference of original and opening\n",
    "## 6)Black hat -opposite of tophat"
   ]
  },
  {
   "cell_type": "code",
   "execution_count": null,
   "id": "96dabe29",
   "metadata": {},
   "outputs": [],
   "source": []
  }
 ],
 "metadata": {
  "kernelspec": {
   "display_name": "Python 3 (ipykernel)",
   "language": "python",
   "name": "python3"
  },
  "language_info": {
   "codemirror_mode": {
    "name": "ipython",
    "version": 3
   },
   "file_extension": ".py",
   "mimetype": "text/x-python",
   "name": "python",
   "nbconvert_exporter": "python",
   "pygments_lexer": "ipython3",
   "version": "3.9.16"
  }
 },
 "nbformat": 4,
 "nbformat_minor": 5
}
