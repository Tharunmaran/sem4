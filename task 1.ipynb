{
 "cells": [
  {
   "cell_type": "code",
   "execution_count": 6,
   "id": "8c9eb5ac",
   "metadata": {},
   "outputs": [
    {
     "data": {
      "text/plain": [
       "True"
      ]
     },
     "execution_count": 6,
     "metadata": {},
     "output_type": "execute_result"
    }
   ],
   "source": [
    "import numpy as np\n",
    "import cv2\n",
    "im1=cv2.imread(\"C:/Users/SN126/filters/th.jpg\")\n",
    "im1\n",
    "cv2.imshow(\"w1\",im1)\n",
    "cv2.waitKey(0)\n",
    "cv2.destroyAllWindows()\n",
    "\n",
    "\n"
   ]
  },
  {
   "cell_type": "code",
   "execution_count": 7,
   "id": "c585ced6",
   "metadata": {},
   "outputs": [
    {
     "data": {
      "text/plain": [
       "True"
      ]
     },
     "execution_count": 7,
     "metadata": {},
     "output_type": "execute_result"
    }
   ],
   "source": [
    "cv2.imwrite(\"C:/Users/SN126/filters/th.jpg\",im1)"
   ]
  },
  {
   "cell_type": "code",
   "execution_count": 4,
   "id": "aec6040a",
   "metadata": {},
   "outputs": [
    {
     "data": {
      "text/plain": [
       "(306, 204, 3)"
      ]
     },
     "execution_count": 4,
     "metadata": {},
     "output_type": "execute_result"
    }
   ],
   "source": [
    "shp=im1.shape\n",
    "shp"
   ]
  },
  {
   "cell_type": "code",
   "execution_count": 5,
   "id": "b835a6a0",
   "metadata": {},
   "outputs": [
    {
     "data": {
      "text/plain": [
       "187272"
      ]
     },
     "execution_count": 5,
     "metadata": {},
     "output_type": "execute_result"
    }
   ],
   "source": [
    "sz=im1.size\n",
    "sz"
   ]
  },
  {
   "cell_type": "code",
   "execution_count": 10,
   "id": "2e57fbcb",
   "metadata": {},
   "outputs": [],
   "source": [
    "px=im1[3,35]\n"
   ]
  },
  {
   "cell_type": "code",
   "execution_count": 11,
   "id": "74a6ed2f",
   "metadata": {},
   "outputs": [
    {
     "data": {
      "text/plain": [
       "array([164,  95,   0], dtype=uint8)"
      ]
     },
     "execution_count": 11,
     "metadata": {},
     "output_type": "execute_result"
    }
   ],
   "source": [
    "px"
   ]
  },
  {
   "cell_type": "code",
   "execution_count": null,
   "id": "e886b897",
   "metadata": {},
   "outputs": [],
   "source": []
  }
 ],
 "metadata": {
  "kernelspec": {
   "display_name": "Python 3 (ipykernel)",
   "language": "python",
   "name": "python3"
  },
  "language_info": {
   "codemirror_mode": {
    "name": "ipython",
    "version": 3
   },
   "file_extension": ".py",
   "mimetype": "text/x-python",
   "name": "python",
   "nbconvert_exporter": "python",
   "pygments_lexer": "ipython3",
   "version": "3.9.16"
  }
 },
 "nbformat": 4,
 "nbformat_minor": 5
}
