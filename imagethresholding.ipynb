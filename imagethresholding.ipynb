{
 "cells": [
  {
   "cell_type": "code",
   "execution_count": 1,
   "id": "2952e6a6",
   "metadata": {},
   "outputs": [
    {
     "name": "stdout",
     "output_type": "stream",
     "text": [
      "Requirement already satisfied: opencv-python in c:\\programdata\\anaconda3\\envs\\aiml\\lib\\site-packages (4.9.0.80)\n",
      "Requirement already satisfied: numpy>=1.17.0 in c:\\programdata\\anaconda3\\envs\\aiml\\lib\\site-packages (from opencv-python) (1.26.0)\n",
      "Note: you may need to restart the kernel to use updated packages.\n"
     ]
    }
   ],
   "source": [
    "pip install opencv-python"
   ]
  },
  {
   "cell_type": "markdown",
   "id": "1525f29d",
   "metadata": {},
   "source": [
    "# image thresholding"
   ]
  },
  {
   "cell_type": "code",
   "execution_count": 2,
   "id": "3e52ec95",
   "metadata": {},
   "outputs": [],
   "source": [
    "import cv2"
   ]
  },
  {
   "cell_type": "code",
   "execution_count": 3,
   "id": "1f7872d0",
   "metadata": {},
   "outputs": [],
   "source": [
    "import numpy"
   ]
  },
  {
   "cell_type": "code",
   "execution_count": 4,
   "id": "393b438e",
   "metadata": {},
   "outputs": [],
   "source": [
    "im1=cv2.imread(\"tvs2.jpg\",0)"
   ]
  },
  {
   "cell_type": "code",
   "execution_count": 5,
   "id": "643cb6f8",
   "metadata": {},
   "outputs": [],
   "source": [
    "cv2.imshow(\"im1\",im1)\n",
    "cv2.waitKey(0)\n",
    "cv2.destroyAllWindows()"
   ]
  },
  {
   "cell_type": "code",
   "execution_count": 6,
   "id": "5330cd47",
   "metadata": {},
   "outputs": [
    {
     "data": {
      "text/plain": [
       "array([[253, 250, 254, ..., 100,  84,  47],\n",
       "       [247, 255, 244, ...,  83,  66,  63],\n",
       "       [253, 250, 254, ...,  94,  66,  83],\n",
       "       ...,\n",
       "       [168, 177, 182, ..., 117, 114, 110],\n",
       "       [172, 180, 174, ..., 111, 111, 107],\n",
       "       [173, 179, 162, ..., 105, 104,  97]], dtype=uint8)"
      ]
     },
     "execution_count": 6,
     "metadata": {},
     "output_type": "execute_result"
    }
   ],
   "source": [
    "im1"
   ]
  },
  {
   "cell_type": "code",
   "execution_count": 7,
   "id": "b8c2e380",
   "metadata": {},
   "outputs": [],
   "source": [
    "ret,thres=cv2.threshold(im1,253,200,cv2.THRESH_BINARY)"
   ]
  },
  {
   "cell_type": "code",
   "execution_count": 8,
   "id": "2588190c",
   "metadata": {},
   "outputs": [
    {
     "name": "stdout",
     "output_type": "stream",
     "text": [
      "253.0\n"
     ]
    }
   ],
   "source": [
    "print (ret)"
   ]
  },
  {
   "cell_type": "code",
   "execution_count": 9,
   "id": "c92a5232",
   "metadata": {},
   "outputs": [
    {
     "data": {
      "text/plain": [
       "array([[  0,   0, 200, ...,   0,   0,   0],\n",
       "       [  0, 200,   0, ...,   0,   0,   0],\n",
       "       [  0,   0, 200, ...,   0,   0,   0],\n",
       "       ...,\n",
       "       [  0,   0,   0, ...,   0,   0,   0],\n",
       "       [  0,   0,   0, ...,   0,   0,   0],\n",
       "       [  0,   0,   0, ...,   0,   0,   0]], dtype=uint8)"
      ]
     },
     "execution_count": 9,
     "metadata": {},
     "output_type": "execute_result"
    }
   ],
   "source": [
    "thres"
   ]
  },
  {
   "cell_type": "code",
   "execution_count": 10,
   "id": "335a00f0",
   "metadata": {},
   "outputs": [],
   "source": [
    "cv2.imshow(\"im1\",thres)\n",
    "cv2.waitKey(0)\n",
    "cv2.destroyAllWindows()"
   ]
  },
  {
   "cell_type": "markdown",
   "id": "6d118bae",
   "metadata": {},
   "source": [
    "# syntax"
   ]
  },
  {
   "cell_type": "code",
   "execution_count": 11,
   "id": "2f7ff1c8",
   "metadata": {
    "scrolled": false
   },
   "outputs": [
    {
     "ename": "SyntaxError",
     "evalue": "invalid syntax (1849262935.py, line 1)",
     "output_type": "error",
     "traceback": [
      "\u001b[1;36m  Cell \u001b[1;32mIn[11], line 1\u001b[1;36m\u001b[0m\n\u001b[1;33m    ret varname=cv2.threshold(inputimages,threshold limit,replace value,cv2.thresholdtype)\u001b[0m\n\u001b[1;37m        ^\u001b[0m\n\u001b[1;31mSyntaxError\u001b[0m\u001b[1;31m:\u001b[0m invalid syntax\n"
     ]
    }
   ],
   "source": [
    "ret varname=cv2.threshold(inputimages,threshold limit,replace value,cv2.thresholdtype) "
   ]
  },
  {
   "cell_type": "code",
   "execution_count": 12,
   "id": "34baa28f",
   "metadata": {},
   "outputs": [],
   "source": [
    "ret,thres1=cv2.threshold(im1,253,200,cv2.THRESH_BINARY)\n",
    "ret,thres2=cv2.threshold(im1,253,200,cv2.THRESH_BINARY_INV)\n",
    "ret,thres3=cv2.threshold(im1,253,200,cv2.THRESH_TRUNC)\n",
    "ret,thres4=cv2.threshold(im1,253,200,cv2.THRESH_TOZERO)\n",
    "ret,thres5=cv2.threshold(im1,253,200,cv2.THRESH_TOZERO_INV)                        "
   ]
  },
  {
   "cell_type": "code",
   "execution_count": 13,
   "id": "0914d3ea",
   "metadata": {},
   "outputs": [],
   "source": [
    "thres1\n",
    "cv2.imshow(\"t1\",thres1)\n",
    "cv2.waitKey(0)\n",
    "cv2.destroyAllWindows()\n"
   ]
  },
  {
   "cell_type": "code",
   "execution_count": 14,
   "id": "5490ba4a",
   "metadata": {},
   "outputs": [],
   "source": [
    "thres2\n",
    "cv2.imshow(\"t2\",thres2)\n",
    "cv2.waitKey(0)\n",
    "cv2.destroyAllWindows()"
   ]
  },
  {
   "cell_type": "code",
   "execution_count": 15,
   "id": "74cac0a4",
   "metadata": {},
   "outputs": [],
   "source": [
    "thres3\n",
    "cv2.imshow(\"t3\",thres3)\n",
    "cv2.waitKey(0)\n",
    "cv2.destroyAllWindows()"
   ]
  },
  {
   "cell_type": "code",
   "execution_count": 16,
   "id": "cbdf1621",
   "metadata": {},
   "outputs": [],
   "source": [
    "thres4\n",
    "cv2.imshow(\"t4\",thres4)\n",
    "cv2.waitKey(0)\n",
    "cv2.destroyAllWindows()"
   ]
  },
  {
   "cell_type": "code",
   "execution_count": 17,
   "id": "829441c8",
   "metadata": {},
   "outputs": [],
   "source": [
    "thres5\n",
    "cv2.imshow(\"t5\",thres5)\n",
    "cv2.waitKey(0)\n",
    "cv2.destroyAllWindows()"
   ]
  },
  {
   "cell_type": "code",
   "execution_count": null,
   "id": "734cc3f2",
   "metadata": {},
   "outputs": [],
   "source": []
  }
 ],
 "metadata": {
  "kernelspec": {
   "display_name": "Python 3 (ipykernel)",
   "language": "python",
   "name": "python3"
  },
  "language_info": {
   "codemirror_mode": {
    "name": "ipython",
    "version": 3
   },
   "file_extension": ".py",
   "mimetype": "text/x-python",
   "name": "python",
   "nbconvert_exporter": "python",
   "pygments_lexer": "ipython3",
   "version": "3.9.16"
  }
 },
 "nbformat": 4,
 "nbformat_minor": 5
}
