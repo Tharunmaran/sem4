{
 "cells": [
  {
   "cell_type": "code",
   "execution_count": 5,
   "id": "4a70ea69",
   "metadata": {},
   "outputs": [
    {
     "name": "stdout",
     "output_type": "stream",
     "text": [
      "Note: you may need to restart the kernel to use updated packages.\n"
     ]
    },
    {
     "name": "stderr",
     "output_type": "stream",
     "text": [
      "ERROR: Could not find a version that satisfies the requirement opencvpython (from versions: none)\n",
      "ERROR: No matching distribution found for opencvpython\n"
     ]
    }
   ],
   "source": []
  },
  {
   "cell_type": "code",
   "execution_count": 2,
   "id": "b151e049",
   "metadata": {},
   "outputs": [],
   "source": [
    "import cv2\n",
    "import numpy as np"
   ]
  },
  {
   "cell_type": "code",
   "execution_count": 3,
   "id": "dde3acee",
   "metadata": {},
   "outputs": [],
   "source": [
    "im1=cv2.imread(\"tvs2.jpg\")"
   ]
  },
  {
   "cell_type": "code",
   "execution_count": 4,
   "id": "fef83689",
   "metadata": {},
   "outputs": [],
   "source": [
    "cv2.imshow('im1',im1)\n",
    "cv2.waitKey(0)\n",
    "cv2.destroyAllWindows()"
   ]
  },
  {
   "cell_type": "code",
   "execution_count": 5,
   "id": "cc6a6d13",
   "metadata": {},
   "outputs": [
    {
     "name": "stdout",
     "output_type": "stream",
     "text": [
      "(200, 300, 3)\n"
     ]
    }
   ],
   "source": [
    "shp=im1.shape\n",
    "print(shp)"
   ]
  },
  {
   "cell_type": "code",
   "execution_count": 7,
   "id": "06a61d4c",
   "metadata": {},
   "outputs": [
    {
     "ename": "NameError",
     "evalue": "name 'height' is not defined",
     "output_type": "error",
     "traceback": [
      "\u001b[1;31m---------------------------------------------------------------------------\u001b[0m",
      "\u001b[1;31mNameError\u001b[0m                                 Traceback (most recent call last)",
      "Cell \u001b[1;32mIn[7], line 1\u001b[0m\n\u001b[1;32m----> 1\u001b[0m cent\u001b[38;5;241m=\u001b[39m(\u001b[43mheight\u001b[49m\u001b[38;5;241m/\u001b[39m\u001b[38;5;241m2\u001b[39m,width\u001b[38;5;241m/\u001b[39m\u001b[38;5;241m2\u001b[39m)\n\u001b[0;32m      2\u001b[0m \u001b[38;5;28mprint\u001b[39m(cent)\n",
      "\u001b[1;31mNameError\u001b[0m: name 'height' is not defined"
     ]
    }
   ],
   "source": [
    "cent=(height/2,width/2)\n",
    "print(cent)"
   ]
  },
  {
   "cell_type": "code",
   "execution_count": 8,
   "id": "4ac04afe",
   "metadata": {},
   "outputs": [
    {
     "ename": "NameError",
     "evalue": "name 'cent' is not defined",
     "output_type": "error",
     "traceback": [
      "\u001b[1;31m---------------------------------------------------------------------------\u001b[0m",
      "\u001b[1;31mNameError\u001b[0m                                 Traceback (most recent call last)",
      "Cell \u001b[1;32mIn[8], line 1\u001b[0m\n\u001b[1;32m----> 1\u001b[0m rotation_matrix\u001b[38;5;241m=\u001b[39mcv2\u001b[38;5;241m.\u001b[39mgetRotationMatrix2D(center\u001b[38;5;241m=\u001b[39m\u001b[43mcent\u001b[49m,angle\u001b[38;5;241m=\u001b[39m\u001b[38;5;241m25\u001b[39m,scale\u001b[38;5;241m=\u001b[39m\u001b[38;5;241m0.5\u001b[39m)\n\u001b[0;32m      2\u001b[0m rotated_im\u001b[38;5;241m=\u001b[39mcv2\u001b[38;5;241m.\u001b[39mwarpAffine(src\u001b[38;5;241m=\u001b[39mim1,M\u001b[38;5;241m=\u001b[39mrotation_matrix,dsize\u001b[38;5;241m=\u001b[39m(width,height))\n",
      "\u001b[1;31mNameError\u001b[0m: name 'cent' is not defined"
     ]
    }
   ],
   "source": [
    "rotation_matrix=cv2.getRotationMatrix2D(center=cent,angle=25,scale=0.5)\n",
    "rotated_im=cv2.warpAffine(src=im1,M=rotation_matrix,dsize=(width,height))"
   ]
  },
  {
   "cell_type": "code",
   "execution_count": null,
   "id": "4a121329",
   "metadata": {},
   "outputs": [],
   "source": [
    "cv2.imshow('Original image',im1)\n",
    "cv2.waitKey(0)\n",
    "cv2.imshow('Rotated image',rotated_im)\n",
    "cv2.waitKey(0)\n",
    "cv2.destroyAllWindows()"
   ]
  },
  {
   "cell_type": "code",
   "execution_count": null,
   "id": "e6fc587f",
   "metadata": {},
   "outputs": [],
   "source": [
    "tx,ty=width/2,height/2"
   ]
  },
  {
   "cell_type": "code",
   "execution_count": null,
   "id": "f9bf6925",
   "metadata": {},
   "outputs": [],
   "source": [
    "\n",
    "trans_im=cv2.warpAffine(src=im1,M=trans_matrix,dsize=(width,height))"
   ]
  },
  {
   "cell_type": "code",
   "execution_count": null,
   "id": "3f1ca43a",
   "metadata": {},
   "outputs": [],
   "source": [
    "cv2.imshow('Original image',im1)\n",
    "cv2.waitKey(0)\n",
    "cv2.imshow('Rotated image',trans_im)\n",
    "cv2.waitKey(0)\n",
    "cv2.destroyAllWindows()"
   ]
  }
 ],
 "metadata": {
  "kernelspec": {
   "display_name": "Python 3 (ipykernel)",
   "language": "python",
   "name": "python3"
  },
  "language_info": {
   "codemirror_mode": {
    "name": "ipython",
    "version": 3
   },
   "file_extension": ".py",
   "mimetype": "text/x-python",
   "name": "python",
   "nbconvert_exporter": "python",
   "pygments_lexer": "ipython3",
   "version": "3.9.16"
  }
 },
 "nbformat": 4,
 "nbformat_minor": 5
}
