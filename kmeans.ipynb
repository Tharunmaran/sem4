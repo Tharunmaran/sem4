{
 "cells": [
  {
   "cell_type": "markdown",
   "id": "cb32450f",
   "metadata": {},
   "source": [
    "# K-MEANS CLUSTERING\n"
   ]
  },
  {
   "cell_type": "code",
   "execution_count": 1,
   "id": "48b4aeca",
   "metadata": {},
   "outputs": [],
   "source": [
    "import cv2\n",
    "import numpy as np"
   ]
  },
  {
   "cell_type": "code",
   "execution_count": 2,
   "id": "8a5b2527",
   "metadata": {},
   "outputs": [],
   "source": [
    "im1=cv2.imread(\"tvs2.jpg\")\n"
   ]
  },
  {
   "cell_type": "code",
   "execution_count": 3,
   "id": "77b2bced",
   "metadata": {},
   "outputs": [
    {
     "data": {
      "text/plain": [
       "array([[[255, 253, 252],\n",
       "        [254, 250, 249],\n",
       "        [255, 255, 251],\n",
       "        ...,\n",
       "        [ 50, 103, 113],\n",
       "        [ 45,  85,  97],\n",
       "        [ 13,  47,  60]],\n",
       "\n",
       "       [[251, 247, 246],\n",
       "        [255, 255, 254],\n",
       "        [248, 245, 241],\n",
       "        ...,\n",
       "        [ 32,  87,  94],\n",
       "        [ 25,  67,  79],\n",
       "        [ 26,  65,  74]],\n",
       "\n",
       "       [[255, 253, 252],\n",
       "        [252, 250, 249],\n",
       "        [255, 254, 253],\n",
       "        ...,\n",
       "        [ 41,  99, 104],\n",
       "        [ 20,  69,  77],\n",
       "        [ 39,  87,  93]],\n",
       "\n",
       "       ...,\n",
       "\n",
       "       [[157, 166, 176],\n",
       "        [166, 175, 185],\n",
       "        [171, 180, 190],\n",
       "        ...,\n",
       "        [110, 114, 125],\n",
       "        [107, 111, 122],\n",
       "        [103, 107, 118]],\n",
       "\n",
       "       [[160, 170, 180],\n",
       "        [168, 178, 188],\n",
       "        [162, 172, 182],\n",
       "        ...,\n",
       "        [104, 109, 118],\n",
       "        [104, 109, 118],\n",
       "        [100, 105, 114]],\n",
       "\n",
       "       [[161, 171, 181],\n",
       "        [167, 177, 187],\n",
       "        [150, 160, 170],\n",
       "        ...,\n",
       "        [ 98, 103, 112],\n",
       "        [ 97, 102, 111],\n",
       "        [ 90,  95, 104]]], dtype=uint8)"
      ]
     },
     "execution_count": 3,
     "metadata": {},
     "output_type": "execute_result"
    }
   ],
   "source": [
    "im1\n"
   ]
  },
  {
   "cell_type": "code",
   "execution_count": 4,
   "id": "2f1b238b",
   "metadata": {},
   "outputs": [],
   "source": [
    "imgrgb= cv2.cvtColor(im1,cv2.COLOR_BGR2RGB) #color conversion"
   ]
  },
  {
   "cell_type": "code",
   "execution_count": 5,
   "id": "2f2b24cf",
   "metadata": {},
   "outputs": [],
   "source": [
    "vec=imgrgb.reshape((-1,3)) #image reshaping"
   ]
  },
  {
   "cell_type": "code",
   "execution_count": 6,
   "id": "ccbfae71",
   "metadata": {},
   "outputs": [
    {
     "data": {
      "text/plain": [
       "array([[252, 253, 255],\n",
       "       [249, 250, 254],\n",
       "       [251, 255, 255],\n",
       "       ...,\n",
       "       [112, 103,  98],\n",
       "       [111, 102,  97],\n",
       "       [104,  95,  90]], dtype=uint8)"
      ]
     },
     "execution_count": 6,
     "metadata": {},
     "output_type": "execute_result"
    }
   ],
   "source": [
    "vec"
   ]
  },
  {
   "cell_type": "code",
   "execution_count": 7,
   "id": "770a9a9f",
   "metadata": {},
   "outputs": [
    {
     "data": {
      "text/plain": [
       "array([[252., 253., 255.],\n",
       "       [249., 250., 254.],\n",
       "       [251., 255., 255.],\n",
       "       ...,\n",
       "       [112., 103.,  98.],\n",
       "       [111., 102.,  97.],\n",
       "       [104.,  95.,  90.]], dtype=float32)"
      ]
     },
     "execution_count": 7,
     "metadata": {},
     "output_type": "execute_result"
    }
   ],
   "source": [
    "vec=np.float32(vec) #float conversion\n",
    "vec"
   ]
  },
  {
   "cell_type": "markdown",
   "id": "f097a477",
   "metadata": {},
   "source": [
    "## iteration termination criteria "
   ]
  },
  {
   "cell_type": "code",
   "execution_count": 8,
   "id": "9bde3dee",
   "metadata": {},
   "outputs": [],
   "source": [
    "criteria= (cv2.TERM_CRITERIA_EPS + cv2.TERM_CRITERIA_MAX_ITER,100,1)"
   ]
  },
  {
   "cell_type": "markdown",
   "id": "6ddbcefb",
   "metadata": {},
   "source": [
    "## cluster conditions "
   ]
  },
  {
   "cell_type": "code",
   "execution_count": 9,
   "id": "f5901f92",
   "metadata": {},
   "outputs": [],
   "source": [
    "k=10\n",
    "attempts=100"
   ]
  },
  {
   "cell_type": "markdown",
   "id": "646850f4",
   "metadata": {},
   "source": [
    "## k-means clustering"
   ]
  },
  {
   "cell_type": "code",
   "execution_count": 10,
   "id": "7e38033a",
   "metadata": {},
   "outputs": [],
   "source": [
    "compactness,label,center =cv2.kmeans(vec,k,None,criteria,attempts,cv2.KMEANS_PP_CENTERS)"
   ]
  },
  {
   "cell_type": "code",
   "execution_count": 11,
   "id": "4b226d64",
   "metadata": {},
   "outputs": [
    {
     "data": {
      "text/plain": [
       "(25930767.4547759,\n",
       " array([[5],\n",
       "        [5],\n",
       "        [5],\n",
       "        ...,\n",
       "        [0],\n",
       "        [0],\n",
       "        [0]], dtype=int32),\n",
       " array([[115.90675 , 108.36325 ,  90.91807 ],\n",
       "        [ 13.38734 ,  11.365871,   8.739358],\n",
       "        [178.12659 , 167.47238 , 158.20357 ],\n",
       "        [ 44.73143 ,  42.095974,  21.004204],\n",
       "        [149.47752 , 138.32704 , 125.6122  ],\n",
       "        [225.73608 , 224.71785 , 222.43666 ],\n",
       "        [108.42637 , 103.2928  ,  43.404934],\n",
       "        [205.36702 , 151.27629 ,  42.63505 ],\n",
       "        [ 77.42585 ,  72.65263 ,  61.605247],\n",
       "        [ 75.67924 ,  72.75593 ,  23.260874]], dtype=float32))"
      ]
     },
     "execution_count": 11,
     "metadata": {},
     "output_type": "execute_result"
    }
   ],
   "source": [
    "compactness,label,center"
   ]
  },
  {
   "cell_type": "code",
   "execution_count": 12,
   "id": "c9aba3a1",
   "metadata": {},
   "outputs": [
    {
     "data": {
      "text/plain": [
       "array([[115, 108,  90],\n",
       "       [ 13,  11,   8],\n",
       "       [178, 167, 158],\n",
       "       [ 44,  42,  21],\n",
       "       [149, 138, 125],\n",
       "       [225, 224, 222],\n",
       "       [108, 103,  43],\n",
       "       [205, 151,  42],\n",
       "       [ 77,  72,  61],\n",
       "       [ 75,  72,  23]], dtype=uint8)"
      ]
     },
     "execution_count": 12,
     "metadata": {},
     "output_type": "execute_result"
    }
   ],
   "source": [
    "center =np.uint8(center)\n",
    "center"
   ]
  },
  {
   "cell_type": "markdown",
   "id": "dedb88ae",
   "metadata": {},
   "source": [
    "# flattening and reshaping"
   ]
  },
  {
   "cell_type": "code",
   "execution_count": 13,
   "id": "95d0e1af",
   "metadata": {},
   "outputs": [
    {
     "data": {
      "text/plain": [
       "array([[[225, 224, 222],\n",
       "        [225, 224, 222],\n",
       "        [225, 224, 222],\n",
       "        ...,\n",
       "        [108, 103,  43],\n",
       "        [108, 103,  43],\n",
       "        [ 44,  42,  21]],\n",
       "\n",
       "       [[225, 224, 222],\n",
       "        [225, 224, 222],\n",
       "        [225, 224, 222],\n",
       "        ...,\n",
       "        [108, 103,  43],\n",
       "        [ 75,  72,  23],\n",
       "        [ 75,  72,  23]],\n",
       "\n",
       "       [[225, 224, 222],\n",
       "        [225, 224, 222],\n",
       "        [225, 224, 222],\n",
       "        ...,\n",
       "        [108, 103,  43],\n",
       "        [ 75,  72,  23],\n",
       "        [108, 103,  43]],\n",
       "\n",
       "       ...,\n",
       "\n",
       "       [[178, 167, 158],\n",
       "        [178, 167, 158],\n",
       "        [178, 167, 158],\n",
       "        ...,\n",
       "        [115, 108,  90],\n",
       "        [115, 108,  90],\n",
       "        [115, 108,  90]],\n",
       "\n",
       "       [[178, 167, 158],\n",
       "        [178, 167, 158],\n",
       "        [178, 167, 158],\n",
       "        ...,\n",
       "        [115, 108,  90],\n",
       "        [115, 108,  90],\n",
       "        [115, 108,  90]],\n",
       "\n",
       "       [[178, 167, 158],\n",
       "        [178, 167, 158],\n",
       "        [178, 167, 158],\n",
       "        ...,\n",
       "        [115, 108,  90],\n",
       "        [115, 108,  90],\n",
       "        [115, 108,  90]]], dtype=uint8)"
      ]
     },
     "execution_count": 13,
     "metadata": {},
     "output_type": "execute_result"
    }
   ],
   "source": [
    "res=center[label.flatten()]\n",
    "res_img=res.reshape((imgrgb.shape))\n",
    "res_img"
   ]
  },
  {
   "cell_type": "code",
   "execution_count": 14,
   "id": "50ddac6d",
   "metadata": {},
   "outputs": [],
   "source": [
    "cv2.imshow('image',im1)\n",
    "cv2.imshow('segmented',res_img)\n",
    "cv2.waitKey(0)\n",
    "cv2.destroyAllWindows()\n"
   ]
  },
  {
   "cell_type": "code",
   "execution_count": 15,
   "id": "96b7974b",
   "metadata": {},
   "outputs": [
    {
     "data": {
      "text/plain": [
       "True"
      ]
     },
     "execution_count": 15,
     "metadata": {},
     "output_type": "execute_result"
    }
   ],
   "source": [
    "cv2.imwrite('segmented.jpg',res_img)"
   ]
  },
  {
   "cell_type": "code",
   "execution_count": null,
   "id": "8e02a213",
   "metadata": {},
   "outputs": [],
   "source": []
  }
 ],
 "metadata": {
  "kernelspec": {
   "display_name": "Python 3 (ipykernel)",
   "language": "python",
   "name": "python3"
  },
  "language_info": {
   "codemirror_mode": {
    "name": "ipython",
    "version": 3
   },
   "file_extension": ".py",
   "mimetype": "text/x-python",
   "name": "python",
   "nbconvert_exporter": "python",
   "pygments_lexer": "ipython3",
   "version": "3.9.16"
  }
 },
 "nbformat": 4,
 "nbformat_minor": 5
}
