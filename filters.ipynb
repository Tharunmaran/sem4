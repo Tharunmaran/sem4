{
 "cells": [
  {
   "cell_type": "code",
   "execution_count": 14,
   "id": "2556595d",
   "metadata": {},
   "outputs": [],
   "source": [
    "import cv2\n",
    "import numpy as np"
   ]
  },
  {
   "cell_type": "code",
   "execution_count": 15,
   "id": "8dc74941",
   "metadata": {},
   "outputs": [],
   "source": [
    "from matplotlib import pyplot as plt"
   ]
  },
  {
   "cell_type": "markdown",
   "id": "935d80b4",
   "metadata": {},
   "source": [
    "# filter2D"
   ]
  },
  {
   "cell_type": "code",
   "execution_count": 3,
   "id": "577e4582",
   "metadata": {},
   "outputs": [],
   "source": [
    "img= cv2.imread('nat.jpg')\n",
    "#img= cv2.imread('tvs2.jpg')"
   ]
  },
  {
   "cell_type": "code",
   "execution_count": 4,
   "id": "8c72af6f",
   "metadata": {},
   "outputs": [],
   "source": [
    "kernal=np.ones((10,10),np.float32)/100"
   ]
  },
  {
   "cell_type": "code",
   "execution_count": 5,
   "id": "ee4ec028",
   "metadata": {},
   "outputs": [
    {
     "data": {
      "text/plain": [
       "array([[0.01, 0.01, 0.01, 0.01, 0.01, 0.01, 0.01, 0.01, 0.01, 0.01],\n",
       "       [0.01, 0.01, 0.01, 0.01, 0.01, 0.01, 0.01, 0.01, 0.01, 0.01],\n",
       "       [0.01, 0.01, 0.01, 0.01, 0.01, 0.01, 0.01, 0.01, 0.01, 0.01],\n",
       "       [0.01, 0.01, 0.01, 0.01, 0.01, 0.01, 0.01, 0.01, 0.01, 0.01],\n",
       "       [0.01, 0.01, 0.01, 0.01, 0.01, 0.01, 0.01, 0.01, 0.01, 0.01],\n",
       "       [0.01, 0.01, 0.01, 0.01, 0.01, 0.01, 0.01, 0.01, 0.01, 0.01],\n",
       "       [0.01, 0.01, 0.01, 0.01, 0.01, 0.01, 0.01, 0.01, 0.01, 0.01],\n",
       "       [0.01, 0.01, 0.01, 0.01, 0.01, 0.01, 0.01, 0.01, 0.01, 0.01],\n",
       "       [0.01, 0.01, 0.01, 0.01, 0.01, 0.01, 0.01, 0.01, 0.01, 0.01],\n",
       "       [0.01, 0.01, 0.01, 0.01, 0.01, 0.01, 0.01, 0.01, 0.01, 0.01]],\n",
       "      dtype=float32)"
      ]
     },
     "execution_count": 5,
     "metadata": {},
     "output_type": "execute_result"
    }
   ],
   "source": [
    "kernal"
   ]
  },
  {
   "cell_type": "code",
   "execution_count": 6,
   "id": "dc7bd19d",
   "metadata": {},
   "outputs": [],
   "source": [
    "fil=cv2.filter2D(img,-1,kernal)"
   ]
  },
  {
   "cell_type": "code",
   "execution_count": 7,
   "id": "1ad5ccf4",
   "metadata": {},
   "outputs": [],
   "source": [
    "cv2.imshow(\"image\",img)\n",
    "cv2.imshow('filter2D',fil)\n",
    "cv2.waitKey(0)\n",
    "cv2.destroyAllWindows()"
   ]
  },
  {
   "cell_type": "markdown",
   "id": "86ef5408",
   "metadata": {},
   "source": [
    "# image blurring"
   ]
  },
  {
   "cell_type": "code",
   "execution_count": 8,
   "id": "45eca281",
   "metadata": {},
   "outputs": [],
   "source": [
    "im1= cv2.imread('tree.jpg')\n",
    "blur=cv2.blur(im1,(5,5))"
   ]
  },
  {
   "cell_type": "code",
   "execution_count": 9,
   "id": "db4f0588",
   "metadata": {},
   "outputs": [],
   "source": [
    "cv2.imshow(\"image\",im1)\n",
    "cv2.imshow('blur',blur)\n",
    "cv2.waitKey(0)\n",
    "cv2.destroyAllWindows()"
   ]
  },
  {
   "cell_type": "markdown",
   "id": "13ba2bc9",
   "metadata": {},
   "source": [
    "# gaussian blur"
   ]
  },
  {
   "cell_type": "code",
   "execution_count": 10,
   "id": "26b345f4",
   "metadata": {},
   "outputs": [],
   "source": [
    "im2= cv2.imread('g.jpg')"
   ]
  },
  {
   "cell_type": "code",
   "execution_count": 11,
   "id": "f264e64a",
   "metadata": {},
   "outputs": [],
   "source": [
    "gblur=cv2.GaussianBlur(im2,(3,3),0)\n",
    "cv2.imshow('img',im2)\n",
    "cv2.imshow('gblur',gblur)\n",
    "cv2.waitKey(0)\n",
    "cv2.destroyAllWindows()"
   ]
  },
  {
   "cell_type": "markdown",
   "id": "c5888b49",
   "metadata": {},
   "source": [
    "# bilateral filters"
   ]
  },
  {
   "cell_type": "code",
   "execution_count": 12,
   "id": "02d192bd",
   "metadata": {},
   "outputs": [],
   "source": [
    "im3= cv2.imread('g.jpg')\n",
    "biblur=cv2.bilateralFilter(im3,45,50,50)\n",
    "cv2.imshow('img',im3)\n",
    "cv2.imshow('biblur',biblur)\n",
    "#cv2.imshow('gblur',gblur)\n",
    "cv2.waitKey(0)\n",
    "cv2.destroyAllWindows()\n",
    "\n"
   ]
  },
  {
   "cell_type": "markdown",
   "id": "1d7fb22b",
   "metadata": {},
   "source": [
    "# median filters"
   ]
  },
  {
   "cell_type": "code",
   "execution_count": 13,
   "id": "ca39c38e",
   "metadata": {},
   "outputs": [],
   "source": [
    "im4= cv2.imread('R.png')\n",
    "median=cv2.medianBlur(im4,5)\n",
    "cv2.imshow('img',im4)\n",
    "cv2.imshow('median',median)\n",
    "cv2.waitKey(0)\n",
    "cv2.destroyAllWindows()"
   ]
  },
  {
   "cell_type": "markdown",
   "id": "4910f27b",
   "metadata": {},
   "source": [
    "# laplacian filter"
   ]
  },
  {
   "cell_type": "code",
   "execution_count": 18,
   "id": "a67a6a41",
   "metadata": {},
   "outputs": [
    {
     "data": {
      "text/plain": [
       "array([[253, 250, 254, ..., 100,  84,  47],\n",
       "       [247, 255, 244, ...,  83,  66,  63],\n",
       "       [253, 250, 254, ...,  94,  66,  83],\n",
       "       ...,\n",
       "       [168, 177, 182, ..., 117, 114, 110],\n",
       "       [172, 180, 174, ..., 111, 111, 107],\n",
       "       [173, 179, 162, ..., 105, 104,  97]], dtype=uint8)"
      ]
     },
     "execution_count": 18,
     "metadata": {},
     "output_type": "execute_result"
    }
   ],
   "source": [
    "im5= cv2.imread('tvs2.jpg',0)\n",
    "im5"
   ]
  },
  {
   "cell_type": "code",
   "execution_count": 30,
   "id": "d4686eb8",
   "metadata": {},
   "outputs": [],
   "source": [
    "lap=cv2.Laplacian(im5,cv2.CV_64F,ksize=3)\n",
    "lap=np.uint8(np.absolute(lap))\n",
    "cv2.imshow('img',im5)\n",
    "cv2.imshow('laplacian',lap)\n",
    "cv2.waitKey(0)\n",
    "cv2.destroyAllWindows()"
   ]
  },
  {
   "cell_type": "markdown",
   "id": "bb4963d0",
   "metadata": {},
   "source": [
    "# sobel filter"
   ]
  },
  {
   "cell_type": "code",
   "execution_count": null,
   "id": "8addaaa1",
   "metadata": {},
   "outputs": [],
   "source": [
    "#sobelX"
   ]
  },
  {
   "cell_type": "code",
   "execution_count": 37,
   "id": "1f1ab501",
   "metadata": {},
   "outputs": [],
   "source": [
    "im6= cv2.imread('nat.jpg')\n",
    "sobelx=cv2.Sobel(im6,cv2.CV_64F,1,0,ksize=3)\n",
    "sobelx=np.uint8(np.absolute(sobelx))\n",
    "cv2.imshow('img',im5)\n",
    "cv2.imshow('sobelx',sobelx)\n",
    "cv2.waitKey(0)\n",
    "cv2.destroyAllWindows()"
   ]
  },
  {
   "cell_type": "code",
   "execution_count": null,
   "id": "2d832f2b",
   "metadata": {},
   "outputs": [],
   "source": [
    "# sobelY"
   ]
  },
  {
   "cell_type": "code",
   "execution_count": 43,
   "id": "2d514ea3",
   "metadata": {},
   "outputs": [],
   "source": [
    "im7= cv2.imread('nat.jpg')\n",
    "sobely=cv2.Sobel(im7,cv2.CV_64F,0,1,ksize=3)\n",
    "sobely=np.uint8(np.absolute(sobely))\n",
    "cv2.imshow('img',im7)\n",
    "cv2.imshow('sobely',sobely)\n",
    "cv2.waitKey(0)\n",
    "cv2.destroyAllWindows()"
   ]
  },
  {
   "cell_type": "code",
   "execution_count": null,
   "id": "87e9327b",
   "metadata": {},
   "outputs": [],
   "source": []
  }
 ],
 "metadata": {
  "kernelspec": {
   "display_name": "Python 3 (ipykernel)",
   "language": "python",
   "name": "python3"
  },
  "language_info": {
   "codemirror_mode": {
    "name": "ipython",
    "version": 3
   },
   "file_extension": ".py",
   "mimetype": "text/x-python",
   "name": "python",
   "nbconvert_exporter": "python",
   "pygments_lexer": "ipython3",
   "version": "3.9.16"
  }
 },
 "nbformat": 4,
 "nbformat_minor": 5
}
