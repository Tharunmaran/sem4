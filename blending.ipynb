{
 "cells": [
  {
   "cell_type": "code",
   "execution_count": 2,
   "id": "bb78f5d7",
   "metadata": {},
   "outputs": [
    {
     "name": "stdout",
     "output_type": "stream",
     "text": [
      "Requirement already satisfied: opencv-python in c:\\programdata\\anaconda3\\envs\\aiml\\lib\\site-packages (4.9.0.80)\n",
      "Requirement already satisfied: numpy>=1.17.0 in c:\\programdata\\anaconda3\\envs\\aiml\\lib\\site-packages (from opencv-python) (1.26.0)\n",
      "Note: you may need to restart the kernel to use updated packages.\n"
     ]
    }
   ],
   "source": [
    "pip install opencv-python"
   ]
  },
  {
   "cell_type": "code",
   "execution_count": 3,
   "id": "06f2906c",
   "metadata": {},
   "outputs": [],
   "source": [
    "import cv2\n"
   ]
  },
  {
   "cell_type": "code",
   "execution_count": 4,
   "id": "16eb9293",
   "metadata": {},
   "outputs": [],
   "source": [
    "import numpy as np"
   ]
  },
  {
   "cell_type": "code",
   "execution_count": 5,
   "id": "bce0e918",
   "metadata": {},
   "outputs": [],
   "source": [
    "im1=cv2.imread(\"C:/Users/SN126/Downloads/tvs3.png\")"
   ]
  },
  {
   "cell_type": "code",
   "execution_count": 6,
   "id": "6924411d",
   "metadata": {},
   "outputs": [],
   "source": [
    "im2=cv2.imread(\"C:/Users/SN126/Downloads/tvs4.png\")"
   ]
  },
  {
   "cell_type": "code",
   "execution_count": 7,
   "id": "27dac4e1",
   "metadata": {},
   "outputs": [],
   "source": [
    "blend=cv2.addWeighted(im1,0.5,im2,0.5,0)"
   ]
  },
  {
   "cell_type": "code",
   "execution_count": null,
   "id": "12ccdeaa",
   "metadata": {},
   "outputs": [],
   "source": [
    "cv2.imshow(\"tvs\",im1)\n",
    "cv2.imshow(\"tvs\",im2)\n",
    "cv2.imshow(\"blend\",blend)\n",
    "cv2.waitKey(0)\n",
    "cv2.destroyAllWindows()"
   ]
  },
  {
   "cell_type": "markdown",
   "id": "cd1bd0d0",
   "metadata": {},
   "source": [
    "# subtraction"
   ]
  },
  {
   "cell_type": "code",
   "execution_count": 8,
   "id": "864a1fc7",
   "metadata": {},
   "outputs": [],
   "source": [
    "imsub=cv2.subtract(im1,im2)"
   ]
  },
  {
   "cell_type": "code",
   "execution_count": 9,
   "id": "58dfc649",
   "metadata": {},
   "outputs": [],
   "source": [
    "cv2.imshow(\"sub\",imsub)\n",
    "cv2.waitKey(0)\n",
    "cv2.destroyAllWindows()"
   ]
  },
  {
   "cell_type": "code",
   "execution_count": null,
   "id": "f7ec5149",
   "metadata": {},
   "outputs": [],
   "source": []
  },
  {
   "cell_type": "markdown",
   "id": "e6bfdaf3",
   "metadata": {},
   "source": [
    "# and or not xor"
   ]
  },
  {
   "cell_type": "code",
   "execution_count": 15,
   "id": "7720b3be",
   "metadata": {},
   "outputs": [],
   "source": [
    "And=cv2.bitwise_and(im1,im2)\n",
    "OR=cv2.bitwise_or(im1,im2)\n",
    "NOT=cv2.bitwise_not(im1,im2)\n",
    "XOR=cv2.bitwise_xor(im1,im2)\n"
   ]
  },
  {
   "cell_type": "code",
   "execution_count": 16,
   "id": "7cc52865",
   "metadata": {},
   "outputs": [],
   "source": [
    "cv2.imshow(\"AND\",And)\n",
    "cv2.waitKey(0)\n",
    "cv2.destroyAllWindows()\n"
   ]
  },
  {
   "cell_type": "code",
   "execution_count": 17,
   "id": "d4a1b6b7",
   "metadata": {},
   "outputs": [],
   "source": [
    "cv2.imshow(\"OR\",OR)\n",
    "cv2.waitKey(0)\n",
    "cv2.destroyAllWindows()"
   ]
  },
  {
   "cell_type": "code",
   "execution_count": 12,
   "id": "87fee55f",
   "metadata": {},
   "outputs": [],
   "source": [
    "cv2.imshow(\"NOT\",NOT)\n",
    "cv2.waitKey(0)\n",
    "cv2.destroyAllWindows()"
   ]
  },
  {
   "cell_type": "code",
   "execution_count": 13,
   "id": "eb882ffa",
   "metadata": {},
   "outputs": [],
   "source": [
    "cv2.imshow(\"XOR\",XOR)\n",
    "cv2.waitKey(0)\n",
    "cv2.destroyAllWindows()"
   ]
  },
  {
   "cell_type": "code",
   "execution_count": null,
   "id": "684b0016",
   "metadata": {},
   "outputs": [],
   "source": [
    "nand=cv2.bitwise_not(And)\n",
    "cv2.imshow(\"nand\",nand)"
   ]
  },
  {
   "cell_type": "markdown",
   "id": "a890959c",
   "metadata": {},
   "source": [
    "# ROI-region of interest"
   ]
  },
  {
   "cell_type": "code",
   "execution_count": null,
   "id": "2d945bac",
   "metadata": {},
   "outputs": [],
   "source": [
    "roi=im1[]"
   ]
  }
 ],
 "metadata": {
  "kernelspec": {
   "display_name": "Python 3 (ipykernel)",
   "language": "python",
   "name": "python3"
  },
  "language_info": {
   "codemirror_mode": {
    "name": "ipython",
    "version": 3
   },
   "file_extension": ".py",
   "mimetype": "text/x-python",
   "name": "python",
   "nbconvert_exporter": "python",
   "pygments_lexer": "ipython3",
   "version": "3.9.16"
  }
 },
 "nbformat": 4,
 "nbformat_minor": 5
}
